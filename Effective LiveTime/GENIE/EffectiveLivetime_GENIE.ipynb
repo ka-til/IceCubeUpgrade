{
 "cells": [
  {
   "cell_type": "code",
   "execution_count": 1,
   "id": "05fd0f54",
   "metadata": {},
   "outputs": [],
   "source": [
    "from icecube import dataclasses, dataio, icetray, simclasses\n",
    "import simweights\n",
    "import nuflux\n",
    "from icecube.icetray import I3Units\n",
    "import matplotlib.pyplot as plt\n",
    "import numpy as np\n",
    "import argparse, matplotlib\n",
    "import csv\n",
    "import numpy as np\n",
    "import matplotlib.pyplot as plt"
   ]
  },
  {
   "cell_type": "code",
   "execution_count": 3,
   "id": "77c0da2f",
   "metadata": {},
   "outputs": [],
   "source": [
    "# Load CSV file into a NumPy array\n",
    "data_NuMu = np.genfromtxt('/mnt/c/Users/akank/IceCube_Software/i3/icetray/scripts/init_tests_021423/effectiveLivetime/data/140028.csv', delimiter=',', skip_header=1)"
   ]
  },
  {
   "cell_type": "code",
   "execution_count": 4,
   "id": "9b11a943",
   "metadata": {},
   "outputs": [],
   "source": [
    "# Load CSV file into a NumPy array\n",
    "data_NuMuBar = np.genfromtxt('/mnt/c/Users/akank/IceCube_Software/i3/icetray/scripts/init_tests_021423/effectiveLivetime/data/141028.csv', delimiter=',', skip_header=1)"
   ]
  },
  {
   "cell_type": "code",
   "execution_count": 28,
   "id": "e07eff8f",
   "metadata": {},
   "outputs": [],
   "source": [
    "flux = nuflux.makeFlux('honda2006')\n",
    "\n",
    "def weights(data, flux, nu_flux):\n",
    "\n",
    "    flux_events = np.nan_to_num(data[:, 0], nan=0)\n",
    "    total_flux_events = sum(flux_events)\n",
    "    print('Total flux events is:', total_flux_events)\n",
    "    one_weights = data[:, 1]\n",
    "    energies = data[:, 2]\n",
    "    zeniths = data[:, 3]\n",
    "    \n",
    "    #how you should actually weigh GENIE simulation sample\n",
    "    weights = one_weights*(flux.getFlux(nu_flux,energies, np.cos(zeniths)))/total_flux_events\n",
    "    \n",
    "    #Genie Weights for one file\n",
    "    weights_one_file_genie = one_weights[0:4999]*(flux.getFlux(nu_flux,energies[0:4999], np.cos(zeniths[0:4999])))/flux_events[0]\n",
    "    \n",
    "    #Calculating the weight in traditional way, 5000 events per file\n",
    "    weights_one_file_trad = one_weights[0:4999]*(flux.getFlux(nu_flux,energies[0:4999], np.cos(zeniths[0:4999])))/5000\n",
    "                \n",
    "    return weights, weights_one_file_genie, weights_one_file_trad\n",
    "\n",
    "def effective_livetime(weights):\n",
    "    return weights.sum()/(weights**2).sum()\n",
    "\n",
    "def convert_time(seconds):\n",
    "    #Converting seconds to years\n",
    "    return seconds/(60*60*24*365.25)\n"
   ]
  },
  {
   "cell_type": "code",
   "execution_count": 29,
   "id": "ff944003",
   "metadata": {},
   "outputs": [
    {
     "name": "stdout",
     "output_type": "stream",
     "text": [
      "Total flux events is: 42928714.0\n",
      "Total flux events is: 45513537.0\n"
     ]
    }
   ],
   "source": [
    "#Calculating weights\n",
    "\n",
    "weights_NuMu, w_one_file_genie_NuMu, w_one_file_trad_NuMu = weights(data_NuMu, flux, nuflux.NuMu)\n",
    "weights_NuMuBar, w_one_file_genie_NuMuBar, w_one_file_trad_NuMuBar = weights(data_NuMuBar, flux, nuflux.NuMuBar)"
   ]
  },
  {
   "cell_type": "code",
   "execution_count": 30,
   "id": "61bbaa64",
   "metadata": {},
   "outputs": [
    {
     "name": "stdout",
     "output_type": "stream",
     "text": [
      "Effective LiveTime considering all 5000 files:  73167281.76575951 s 2.3185312497071866 yr\n",
      "Effective LiveTime considering only 1 file genie style:  73791.5662110453\n",
      "Effective LiveTime considering only 1 file traditional style:  8557.528262906795\n",
      "SCALING\n",
      "Effective LiveTime considering only 1 file genie style (scaled):  73791566.2110453\n",
      "Effective LiveTime considering only 1 file traditional style (scaled):  8557528.262906795\n"
     ]
    }
   ],
   "source": [
    "#Calculating Effective Livetime NuMu\n",
    "\n",
    "print('Effective LiveTime considering all 5000 files: ', effective_livetime(weights_NuMu), 's', convert_time(effective_livetime(weights_NuMu)), 'yr')\n",
    "print('Effective LiveTime considering only 1 file genie style: ', effective_livetime(w_one_file_genie_NuMu))\n",
    "print('Effective LiveTime considering only 1 file traditional style: ', effective_livetime(w_one_file_trad_NuMu))\n",
    "\n",
    "#scaling effective livetime for 1000 files\n",
    "print('SCALING')\n",
    "print('Effective LiveTime considering only 1 file genie style (scaled): ', effective_livetime(w_one_file_genie_NuMu)*1000)\n",
    "print('Effective LiveTime considering only 1 file traditional style (scaled): ', effective_livetime(w_one_file_trad_NuMu)*1000)"
   ]
  },
  {
   "cell_type": "code",
   "execution_count": 32,
   "id": "e72cd57b",
   "metadata": {},
   "outputs": [
    {
     "name": "stdout",
     "output_type": "stream",
     "text": [
      "Effective LiveTime considering all 5000 files:  176988300.87899047 s 5.608420820309227 yr\n",
      "Effective LiveTime considering only 1 file genie style:  177540.7077422178\n",
      "Effective LiveTime considering only 1 file traditional style:  19504.395199417508\n",
      "SCALING\n",
      "Effective LiveTime considering only 1 file genie style (scaled):  177540707.7422178\n",
      "Effective LiveTime considering only 1 file traditional style (scaled):  19504395.19941751\n"
     ]
    }
   ],
   "source": [
    "#Calculating Effective Livetime NuMuBar\n",
    "\n",
    "print('Effective LiveTime considering all 5000 files: ', effective_livetime(weights_NuMuBar), 's', convert_time(effective_livetime(weights_NuMuBar)), 'yr')\n",
    "print('Effective LiveTime considering only 1 file genie style: ', effective_livetime(w_one_file_genie_NuMuBar))\n",
    "print('Effective LiveTime considering only 1 file traditional style: ', effective_livetime(w_one_file_trad_NuMuBar))\n",
    "\n",
    "#scaling effective livetime for 1000 files\n",
    "print('SCALING')\n",
    "print('Effective LiveTime considering only 1 file genie style (scaled): ', effective_livetime(w_one_file_genie_NuMuBar)*1000)\n",
    "print('Effective LiveTime considering only 1 file traditional style (scaled): ', effective_livetime(w_one_file_trad_NuMuBar)*1000)"
   ]
  },
  {
   "cell_type": "code",
   "execution_count": 16,
   "id": "1f0929c7",
   "metadata": {},
   "outputs": [
    {
     "data": {
      "text/plain": [
       "0.024004333808898947"
      ]
     },
     "execution_count": 16,
     "metadata": {},
     "output_type": "execute_result"
    }
   ],
   "source": [
    "weights_NuMu.sum()"
   ]
  },
  {
   "cell_type": "code",
   "execution_count": null,
   "id": "269a2058",
   "metadata": {},
   "outputs": [],
   "source": []
  }
 ],
 "metadata": {
  "kernelspec": {
   "display_name": "Python 3 (ipykernel)",
   "language": "python",
   "name": "python3"
  },
  "language_info": {
   "codemirror_mode": {
    "name": "ipython",
    "version": 3
   },
   "file_extension": ".py",
   "mimetype": "text/x-python",
   "name": "python",
   "nbconvert_exporter": "python",
   "pygments_lexer": "ipython3",
   "version": "3.8.10"
  }
 },
 "nbformat": 4,
 "nbformat_minor": 5
}
