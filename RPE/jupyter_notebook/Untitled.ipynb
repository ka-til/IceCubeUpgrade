{
 "cells": [
  {
   "cell_type": "code",
   "execution_count": null,
   "id": "6194fc4c",
   "metadata": {},
   "outputs": [],
   "source": [
    "from icecube import dataclasses, dataio, icetray\n",
    "\n",
    "gcd_infile = dataio.I3File('/mnt/c/Users/akank/IceCube_Software/i3/icetray/scripts/init_tests_021423/GCD/GeoCalibDetectorStatus_ICUpgrade.v58.mixed.V0.i3.bz2')\n",
    "gcd_outfile = dataio.I3File('/mnt/c/Users/akank/IceCube_Software/i3/icetray/scripts/DOM_Eff/I3Files/GCD/GeoCalibDetectorStatus_ICUpgrade_testEff_str86_87.v58.mixed.V0.i3.bz2', 'w')\n",
    "\n",
    "\n",
    "while gcd_infile.more():\n",
    "    frame = gcd_infile.pop_frame()\n",
    "    if \"I3Geometry\" in frame:\n",
    "        geometry = frame[\"I3Geometry\"]\n",
    "        \n",
    "    if \"I3Calibration\" in frame:\n",
    "        calibration = frame[\"I3Calibration\"]\n",
    "        calibrationData = calibration.dom_cal       \n",
    "        domcal = dataclasses.Map_OMKey_I3DOMCalibration()\n",
    "        for omkey in geometry.omgeo.keys():\n",
    "            if omkey in calibrationData.keys():\n",
    "                domcal[omkey] = calibrationData[omkey]\n",
    "                #print(domcal[omkey])\n",
    "                if omkey[0] == 86 or omkey[0] == 87:\n",
    "                    #print(domcal[omkey].relative_dom_eff)\n",
    "                    domcal[omkey].relative_dom_eff = 3.0\n",
    "            else:\n",
    "                oKey = geometry.omgeo.get(omkey)\n",
    "                #print(oKey.omtype)\n",
    "\n",
    "        frame[\"I3Calibration\"].dom_cal = domcal\n",
    "        \n",
    "    if \"I3DetectorStatus\" in frame:\n",
    "        detectorStatus = frame[\"I3DetectorStatus\"]\n",
    "        \n",
    "    gcd_outfile.push(frame)\n",
    "\n",
    "gcd_outfile.close()"
   ]
  }
 ],
 "metadata": {
  "kernelspec": {
   "display_name": "Python 3 (ipykernel)",
   "language": "python",
   "name": "python3"
  },
  "language_info": {
   "codemirror_mode": {
    "name": "ipython",
    "version": 3
   },
   "file_extension": ".py",
   "mimetype": "text/x-python",
   "name": "python",
   "nbconvert_exporter": "python",
   "pygments_lexer": "ipython3",
   "version": "3.8.10"
  }
 },
 "nbformat": 4,
 "nbformat_minor": 5
}
